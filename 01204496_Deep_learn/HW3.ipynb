{
 "cells": [
  {
   "cell_type": "code",
   "execution_count": 1,
   "metadata": {
    "colab": {},
    "colab_type": "code",
    "id": "dIfcET9Af6MZ"
   },
   "outputs": [],
   "source": [
    "import numpy as np\n",
    "import math\n",
    "import pandas as pd\n",
    "import matplotlib.pyplot as plt\n",
    "\n",
    "Input = np.array([[0,0],[0,1],[1,0],[1,1]])\n",
    "Output = np.array([[0],[1],[1],[0]])"
   ]
  },
  {
   "cell_type": "code",
   "execution_count": 2,
   "metadata": {
    "colab": {},
    "colab_type": "code",
    "id": "oMoc878eWuH2"
   },
   "outputs": [],
   "source": [
    "def sigmoid(x):\n",
    "    return 1/(1+np.exp(-1*x))\n",
    "def diff_sigmoid(x):\n",
    "    return x*(1-x)"
   ]
  },
  {
   "cell_type": "code",
   "execution_count": 3,
   "metadata": {
    "colab": {},
    "colab_type": "code",
    "id": "vzUHQYZegF4m"
   },
   "outputs": [],
   "source": [
    "def predict(X):\n",
    "    HiddenLayer = np.dot(X, HiddenWeight)\n",
    "    HiddenLayer += HiddenBias\n",
    "    Hidden_Layer_Output = sigmoid(HiddenLayer)\n",
    "\n",
    "    OutputLayer = np.dot(Hidden_Layer_Output, OutputWeight)\n",
    "    OutputLayer += OutputBias\n",
    "    predicted = sigmoid(OutputLayer)\n",
    "    return predicted"
   ]
  },
  {
   "cell_type": "markdown",
   "metadata": {
    "colab_type": "text",
    "id": "R_EvE7XzWwyl"
   },
   "source": [
    "2.1) LOG-LOSS FUNCTION FOR THE WHOLE BATCH"
   ]
  },
  {
   "cell_type": "code",
   "execution_count": 4,
   "metadata": {
    "colab": {},
    "colab_type": "code",
    "id": "ChUDXnm0gHyX"
   },
   "outputs": [],
   "source": [
    "epoch = 20000\n",
    "learning_rate = 0.1\n",
    "HiddenWeight = np.random.uniform(size=(2,2))\n",
    "HiddenBias = np.random.uniform(size=(1,2))\n",
    "OutputWeight = np.random.uniform(size=(2,1))\n",
    "OutputBias = np.random.uniform(size=(1,1))"
   ]
  },
  {
   "cell_type": "code",
   "execution_count": 5,
   "metadata": {
    "colab": {},
    "colab_type": "code",
    "id": "u4RRRIy-gLO3"
   },
   "outputs": [],
   "source": [
    "training_step  = []\n",
    "for i in range(epoch):\n",
    "    \n",
    "    HiddenLayer = np.dot(Input, HiddenWeight)\n",
    "    HiddenLayer += HiddenBias\n",
    "    Hidden_Layer_Output = sigmoid(HiddenLayer)  \n",
    "\n",
    "    OutputLayer = np.dot(Hidden_Layer_Output, OutputWeight)\n",
    "    OutputLayer += OutputBias  #i3\n",
    "    predicted = sigmoid( OutputLayer) #z3\n",
    "    \n",
    "    error = (-Output + predicted)/(predicted*(1-predicted))\n",
    "    diff_output_error = error*diff_sigmoid(predicted)\n",
    "\n",
    "    hidden_error = np.dot(diff_output_error,OutputWeight.T)\n",
    "    diff_hidden_error = hidden_error*diff_sigmoid(Hidden_Layer_Output)\n",
    "\n",
    "    OutputWeight = OutputWeight - np.dot(Hidden_Layer_Output.T,diff_output_error)*learning_rate\n",
    "    OutputBias = OutputBias - np.sum(diff_output_error, axis=0, keepdims=True)*learning_rate\n",
    "\n",
    "    HiddenWeight = HiddenWeight - np.dot(Input.T,diff_hidden_error, )*learning_rate\n",
    "    HiddenBias = HiddenBias - np.sum(diff_hidden_error, axis=0, keepdims=True)*learning_rate \n",
    "    \n",
    "    step = {}\n",
    "    step['epoch'] = i\n",
    "    step['error'] = np.mean(np.abs(-Output+ predict(Input)))\n",
    "    training_step.append(step)"
   ]
  },
  {
   "cell_type": "code",
   "execution_count": 6,
   "metadata": {
    "colab": {
     "base_uri": "https://localhost:8080/",
     "height": 282
    },
    "colab_type": "code",
    "executionInfo": {
     "elapsed": 4552,
     "status": "ok",
     "timestamp": 1582441860391,
     "user": {
      "displayName": "Nuttrawitra KITWATTHANACHAI",
      "photoUrl": "https://lh3.googleusercontent.com/a-/AAuE7mClQzNpgY_FYor7da2rpVawbVVDCWMPPAz0cQ0C=s64",
      "userId": "03574367082006875034"
     },
     "user_tz": -420
    },
    "id": "bphYJuragNJH",
    "outputId": "ba3c6258-ddb3-4b03-b060-7efd00bb99f2"
   },
   "outputs": [
    {
     "data": {
      "text/plain": [
       "[<matplotlib.lines.Line2D at 0x24992385eb8>]"
      ]
     },
     "execution_count": 6,
     "metadata": {},
     "output_type": "execute_result"
    },
    {
     "data": {
      "image/png": "[encoded data removed]",
      "text/plain": [
       "<Figure size 432x288 with 1 Axes>"
      ]
     },
     "metadata": {
      "needs_background": "light"
     },
     "output_type": "display_data"
    }
   ],
   "source": [
    "df = pd.DataFrame(training_step)\n",
    "plt.plot(df['epoch'], df['error'])"
   ]
  },
  {
   "cell_type": "code",
   "execution_count": 7,
   "metadata": {
    "colab": {
     "base_uri": "https://localhost:8080/",
     "height": 84
    },
    "colab_type": "code",
    "executionInfo": {
     "elapsed": 4544,
     "status": "ok",
     "timestamp": 1582441860394,
     "user": {
      "displayName": "Nuttrawitra KITWATTHANACHAI",
      "photoUrl": "https://lh3.googleusercontent.com/a-/AAuE7mClQzNpgY_FYor7da2rpVawbVVDCWMPPAz0cQ0C=s64",
      "userId": "03574367082006875034"
     },
     "user_tz": -420
    },
    "id": "GeZJyoWYgO-1",
    "outputId": "6f7b0c6c-2d4d-4020-ba39-02ac4daacf51"
   },
   "outputs": [
    {
     "data": {
      "text/plain": [
       "array([[0.00161676],\n",
       "       [0.99886917],\n",
       "       [0.99887088],\n",
       "       [0.00116252]])"
      ]
     },
     "execution_count": 7,
     "metadata": {},
     "output_type": "execute_result"
    }
   ],
   "source": [
    "predict(Input)"
   ]
  },
  {
   "cell_type": "markdown",
   "metadata": {
    "colab_type": "text",
    "id": "YCFY6eeoWw-3"
   },
   "source": [
    "2.2) SUM-SQUARED FUNCTION FOR THE WHOLE BATCH"
   ]
  },
  {
   "cell_type": "code",
   "execution_count": 8,
   "metadata": {
    "colab": {},
    "colab_type": "code",
    "id": "gih97ekDgZHp"
   },
   "outputs": [],
   "source": [
    "epoch = 20000\n",
    "learning_rate = 0.1\n",
    "HiddenWeight = np.random.uniform(size=(2,2))\n",
    "HiddenBias = np.random.uniform(size=(1,2))\n",
    "OutputWeight = np.random.uniform(size=(2,1))\n",
    "OutputBias = np.random.uniform(size=(1,1))"
   ]
  },
  {
   "cell_type": "code",
   "execution_count": 9,
   "metadata": {
    "colab": {},
    "colab_type": "code",
    "id": "UdHtqakvgtgd"
   },
   "outputs": [],
   "source": [
    "training_step  = []\n",
    "for i in range(epoch):\n",
    "    \n",
    "    HiddenLayer = np.dot(Input, HiddenWeight)\n",
    "    HiddenLayer += HiddenBias\n",
    "    Hidden_Layer_Output = sigmoid(HiddenLayer)\n",
    "\n",
    "    OutputLayer = np.dot(Hidden_Layer_Output, OutputWeight)\n",
    "    OutputLayer += OutputBias\n",
    "    predicted = sigmoid(OutputLayer)\n",
    "    \n",
    "    error = (-Output + predicted)\n",
    "    diff_output_error = error*diff_sigmoid(predicted)\n",
    "\n",
    "    hidden_error = np.dot(diff_output_error,OutputWeight.T)\n",
    "    diff_hidden_error = hidden_error*diff_sigmoid(Hidden_Layer_Output)\n",
    "\n",
    "    OutputWeight = OutputWeight - np.dot(Hidden_Layer_Output.T,diff_output_error)*learning_rate\n",
    "    OutputBias = OutputBias - np.sum(diff_output_error, axis=0, keepdims=True)*learning_rate\n",
    "\n",
    "    HiddenWeight = HiddenWeight - np.dot(Input.T,diff_hidden_error, )*learning_rate\n",
    "    HiddenBias = HiddenBias - np.sum(diff_hidden_error, axis=0, keepdims=True)*learning_rate \n",
    "    \n",
    "    step = {}\n",
    "    step['epoch'] = i\n",
    "    step['error'] = np.mean(np.abs(-Output+ predict(Input)))\n",
    "    training_step.append(step)\n",
    "    "
   ]
  },
  {
   "cell_type": "code",
   "execution_count": 10,
   "metadata": {
    "colab": {
     "base_uri": "https://localhost:8080/",
     "height": 282
    },
    "colab_type": "code",
    "executionInfo": {
     "elapsed": 6550,
     "status": "ok",
     "timestamp": 1582441862420,
     "user": {
      "displayName": "Nuttrawitra KITWATTHANACHAI",
      "photoUrl": "https://lh3.googleusercontent.com/a-/AAuE7mClQzNpgY_FYor7da2rpVawbVVDCWMPPAz0cQ0C=s64",
      "userId": "03574367082006875034"
     },
     "user_tz": -420
    },
    "id": "PIkRpBB5gvWs",
    "outputId": "f4eaa87a-15e4-4f06-dbcf-092d73ce7f2e"
   },
   "outputs": [
    {
     "data": {
      "text/plain": [
       "[<matplotlib.lines.Line2D at 0x249922fa390>]"
      ]
     },
     "execution_count": 10,
     "metadata": {},
     "output_type": "execute_result"
    },
    {
     "data": {
      "image/png": "[encoded data removed]",
      "text/plain": [
       "<Figure size 432x288 with 1 Axes>"
      ]
     },
     "metadata": {
      "needs_background": "light"
     },
     "output_type": "display_data"
    }
   ],
   "source": [
    "df = pd.DataFrame(training_step)\n",
    "plt.plot(df['epoch'], df['error'])"
   ]
  },
  {
   "cell_type": "code",
   "execution_count": 11,
   "metadata": {
    "colab": {
     "base_uri": "https://localhost:8080/",
     "height": 84
    },
    "colab_type": "code",
    "executionInfo": {
     "elapsed": 6544,
     "status": "ok",
     "timestamp": 1582441862423,
     "user": {
      "displayName": "Nuttrawitra KITWATTHANACHAI",
      "photoUrl": "https://lh3.googleusercontent.com/a-/AAuE7mClQzNpgY_FYor7da2rpVawbVVDCWMPPAz0cQ0C=s64",
      "userId": "03574367082006875034"
     },
     "user_tz": -420
    },
    "id": "bv-uCt_UgweJ",
    "outputId": "398682a9-41a2-42bc-9eeb-b11efe4bdda0"
   },
   "outputs": [
    {
     "data": {
      "text/plain": [
       "array([[0.0334525 ],\n",
       "       [0.97042574],\n",
       "       [0.9704256 ],\n",
       "       [0.031078  ]])"
      ]
     },
     "execution_count": 11,
     "metadata": {},
     "output_type": "execute_result"
    }
   ],
   "source": [
    "predict(Input)"
   ]
  },
  {
   "cell_type": "markdown",
   "metadata": {
    "colab_type": "text",
    "id": "bF2asRAoWxOr"
   },
   "source": [
    "2.3) LOG-LOSS FUNCTION FOR STOCHASTIC GRADIENT"
   ]
  },
  {
   "cell_type": "code",
   "execution_count": 12,
   "metadata": {
    "colab": {},
    "colab_type": "code",
    "id": "3HjWuTb8g8vy"
   },
   "outputs": [],
   "source": [
    "epoch = 20000\n",
    "learning_rate = 0.1\n",
    "HiddenWeight = np.random.uniform(size=(2,2))\n",
    "HiddenBias = np.random.uniform(size=(1,2))\n",
    "OutputWeight = np.random.uniform(size=(2,1))\n",
    "OutputBias = np.random.uniform(size=(1,1))"
   ]
  },
  {
   "cell_type": "code",
   "execution_count": 13,
   "metadata": {
    "colab": {},
    "colab_type": "code",
    "id": "d94i-ITug_92"
   },
   "outputs": [],
   "source": [
    "training_step  = []\n",
    "for i in range(epoch):\n",
    "    \n",
    "    HiddenLayer = np.dot(np.array([Input[i%4]]), HiddenWeight)\n",
    "    HiddenLayer += HiddenBias\n",
    "    Hidden_Layer_Output = sigmoid(HiddenLayer)\n",
    "\n",
    "    OutputLayer = np.dot(Hidden_Layer_Output, OutputWeight)\n",
    "    OutputLayer += OutputBias\n",
    "    predicted = sigmoid( OutputLayer)\n",
    "    \n",
    "    error = (-np.array([Output[i%4]]) + predicted)/(predicted*(1-predicted))\n",
    "    diff_output_error = error*diff_sigmoid(predicted)\n",
    "\n",
    "    hidden_error = np.dot(diff_output_error,OutputWeight.T)\n",
    "    diff_hidden_error = hidden_error*diff_sigmoid(Hidden_Layer_Output)\n",
    "\n",
    "    OutputWeight = OutputWeight - np.dot(Hidden_Layer_Output.T,diff_output_error)*learning_rate\n",
    "    OutputBias = OutputBias - np.sum(diff_output_error, axis=0, keepdims=True)*learning_rate\n",
    "\n",
    "    HiddenWeight = HiddenWeight - np.dot(np.array([Input[i%4]]).T,diff_hidden_error, )*learning_rate\n",
    "    HiddenBias = HiddenBias - np.sum(diff_hidden_error, axis=0, keepdims=True)*learning_rate \n",
    "    \n",
    "    step = {}\n",
    "    step['epoch'] = i\n",
    "    step['error'] = np.mean(np.abs(-Output+ predict(Input)))\n",
    "    training_step.append(step)\n",
    "    "
   ]
  },
  {
   "cell_type": "code",
   "execution_count": 14,
   "metadata": {
    "colab": {
     "base_uri": "https://localhost:8080/",
     "height": 282
    },
    "colab_type": "code",
    "executionInfo": {
     "elapsed": 8914,
     "status": "ok",
     "timestamp": 1582441864810,
     "user": {
      "displayName": "Nuttrawitra KITWATTHANACHAI",
      "photoUrl": "https://lh3.googleusercontent.com/a-/AAuE7mClQzNpgY_FYor7da2rpVawbVVDCWMPPAz0cQ0C=s64",
      "userId": "03574367082006875034"
     },
     "user_tz": -420
    },
    "id": "-eRWg6dohCQ8",
    "outputId": "b8a69497-0336-4187-a76e-f7e7e953f44c"
   },
   "outputs": [
    {
     "data": {
      "text/plain": [
       "[<matplotlib.lines.Line2D at 0x2499229bd68>]"
      ]
     },
     "execution_count": 14,
     "metadata": {},
     "output_type": "execute_result"
    },
    {
     "data": {
      "image/png": "[encoded data removed]",
      "text/plain": [
       "<Figure size 432x288 with 1 Axes>"
      ]
     },
     "metadata": {
      "needs_background": "light"
     },
     "output_type": "display_data"
    }
   ],
   "source": [
    "df = pd.DataFrame(training_step)\n",
    "plt.plot(df['epoch'], df['error'])"
   ]
  },
  {
   "cell_type": "code",
   "execution_count": 15,
   "metadata": {
    "colab": {
     "base_uri": "https://localhost:8080/",
     "height": 84
    },
    "colab_type": "code",
    "executionInfo": {
     "elapsed": 8908,
     "status": "ok",
     "timestamp": 1582441864813,
     "user": {
      "displayName": "Nuttrawitra KITWATTHANACHAI",
      "photoUrl": "https://lh3.googleusercontent.com/a-/AAuE7mClQzNpgY_FYor7da2rpVawbVVDCWMPPAz0cQ0C=s64",
      "userId": "03574367082006875034"
     },
     "user_tz": -420
    },
    "id": "iIJiC0VghDt1",
    "outputId": "3f195ea3-a850-4d97-afef-1d6a39eb75c5"
   },
   "outputs": [
    {
     "data": {
      "text/plain": [
       "array([[0.00662457],\n",
       "       [0.99112354],\n",
       "       [0.99385678],\n",
       "       [0.00564584]])"
      ]
     },
     "execution_count": 15,
     "metadata": {},
     "output_type": "execute_result"
    }
   ],
   "source": [
    "predict(Input)"
   ]
  },
  {
   "cell_type": "markdown",
   "metadata": {
    "colab_type": "text",
    "id": "wr4xXnP8WvrC"
   },
   "source": [
    "**2.4**) SUM-SQUARED FUNCTION FOR STOCHASTIC"
   ]
  },
  {
   "cell_type": "code",
   "execution_count": 16,
   "metadata": {
    "colab": {},
    "colab_type": "code",
    "id": "jLa13T84hTUL"
   },
   "outputs": [],
   "source": [
    "epoch = 40000\n",
    "learning_rate = 0.1\n",
    "HiddenWeight = np.random.uniform(size=(2,2))\n",
    "HiddenBias = np.random.uniform(size=(1,2))\n",
    "OutputWeight = np.random.uniform(size=(2,1))\n",
    "OutputBias = np.random.uniform(size=(1,1))"
   ]
  },
  {
   "cell_type": "code",
   "execution_count": 17,
   "metadata": {
    "colab": {},
    "colab_type": "code",
    "id": "NAlj9HzvhV4n"
   },
   "outputs": [],
   "source": [
    "training_step  = []\n",
    "for i in range(epoch):\n",
    "    \n",
    "    HiddenLayer = np.dot(np.array([Input[i%4]]), HiddenWeight)\n",
    "    HiddenLayer += HiddenBias\n",
    "    Hidden_Layer_Output = sigmoid(HiddenLayer)\n",
    "\n",
    "    OutputLayer = np.dot(Hidden_Layer_Output, OutputWeight)\n",
    "    OutputLayer += OutputBias\n",
    "    predicted = sigmoid(OutputLayer)\n",
    "    \n",
    "    error = (-np.array([Output[i%4]]) + predicted)\n",
    "    diff_output_error = error*diff_sigmoid(predicted)\n",
    "\n",
    "    hidden_error = np.dot(diff_output_error,OutputWeight.T)\n",
    "    diff_hidden_error = hidden_error*diff_sigmoid(Hidden_Layer_Output)\n",
    "\n",
    "    OutputWeight = OutputWeight - np.dot(Hidden_Layer_Output.T,diff_output_error)*learning_rate\n",
    "    OutputBias = OutputBias - np.sum(diff_output_error, axis=0, keepdims=True)*learning_rate\n",
    "\n",
    "    HiddenWeight = HiddenWeight - np.dot(np.array([Input[i%4]]).T,diff_hidden_error, )*learning_rate\n",
    "    HiddenBias = HiddenBias - np.sum(diff_hidden_error, axis=0, keepdims=True)*learning_rate \n",
    "    \n",
    "    step = {}\n",
    "    step['epoch'] = i\n",
    "    step['error'] = np.mean(np.abs(-Output+ predict(Input)))\n",
    "    training_step.append(step)\n",
    "    "
   ]
  },
  {
   "cell_type": "code",
   "execution_count": 18,
   "metadata": {
    "colab": {
     "base_uri": "https://localhost:8080/",
     "height": 282
    },
    "colab_type": "code",
    "executionInfo": {
     "elapsed": 1105,
     "status": "ok",
     "timestamp": 1582441963787,
     "user": {
      "displayName": "Nuttrawitra KITWATTHANACHAI",
      "photoUrl": "https://lh3.googleusercontent.com/a-/AAuE7mClQzNpgY_FYor7da2rpVawbVVDCWMPPAz0cQ0C=s64",
      "userId": "03574367082006875034"
     },
     "user_tz": -420
    },
    "id": "FcFNI8behX8o",
    "outputId": "3e9acfc3-06bc-4089-bd65-9acbbf1eb183"
   },
   "outputs": [
    {
     "data": {
      "text/plain": [
       "[<matplotlib.lines.Line2D at 0x24993a97358>]"
      ]
     },
     "execution_count": 18,
     "metadata": {},
     "output_type": "execute_result"
    },
    {
     "data": {
      "image/png": "[encoded data removed]",
      "text/plain": [
       "<Figure size 432x288 with 1 Axes>"
      ]
     },
     "metadata": {
      "needs_background": "light"
     },
     "output_type": "display_data"
    }
   ],
   "source": [
    "df = pd.DataFrame(training_step)\n",
    "plt.plot(df['epoch'], df['error'])"
   ]
  },
  {
   "cell_type": "code",
   "execution_count": 19,
   "metadata": {
    "colab": {
     "base_uri": "https://localhost:8080/",
     "height": 84
    },
    "colab_type": "code",
    "executionInfo": {
     "elapsed": 1081,
     "status": "ok",
     "timestamp": 1582441963790,
     "user": {
      "displayName": "Nuttrawitra KITWATTHANACHAI",
      "photoUrl": "https://lh3.googleusercontent.com/a-/AAuE7mClQzNpgY_FYor7da2rpVawbVVDCWMPPAz0cQ0C=s64",
      "userId": "03574367082006875034"
     },
     "user_tz": -420
    },
    "id": "xUpSlu2EhYiw",
    "outputId": "fd3db3e9-adaa-4afb-b49d-dfafb64474ed"
   },
   "outputs": [
    {
     "data": {
      "text/plain": [
       "array([[0.05248268],\n",
       "       [0.49274481],\n",
       "       [0.93551775],\n",
       "       [0.50209149]])"
      ]
     },
     "execution_count": 19,
     "metadata": {},
     "output_type": "execute_result"
    }
   ],
   "source": [
    "predict(Input)"
   ]
  }
 ],
 "metadata": {
  "colab": {
   "authorship_tag": "ABX9TyOk0mfT5homYxzecaD4eE/B",
   "collapsed_sections": [],
   "name": "HW3.ipynb",
   "provenance": []
  },
  "kernelspec": {
   "display_name": "Python 3",
   "language": "python",
   "name": "python3"
  },
  "language_info": {
   "codemirror_mode": {
    "name": "ipython",
    "version": 3
   },
   "file_extension": ".py",
   "mimetype": "text/x-python",
   "name": "python",
   "nbconvert_exporter": "python",
   "pygments_lexer": "ipython3",
   "version": "3.7.0"
  }
 },
 "nbformat": 4,
 "nbformat_minor": 1
}
