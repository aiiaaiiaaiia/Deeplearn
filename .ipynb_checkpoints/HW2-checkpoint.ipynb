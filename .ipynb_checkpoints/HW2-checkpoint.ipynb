{
 "cells": [
  {
   "cell_type": "code",
   "execution_count": 7,
   "metadata": {},
   "outputs": [
    {
     "name": "stdout",
     "output_type": "stream",
     "text": [
      "XOR gate\n",
      "weight at each steps:\n",
      "[ 0 -1  0]\n",
      "[ 1 -1  0]\n",
      "[ 1 -1  0]\n",
      "[ 1 -1  0]\n",
      "can't be use preceptron training algorithm\n"
     ]
    }
   ],
   "source": [
    "import numpy as np\n",
    "import math \n",
    "\n",
    "X = np.array([ [0,0], [0,1], [1,0], [1,1] ] )\n",
    "# print(\"AND gate\")\n",
    "# y = np.array( [0, 0, 0, 1] )  #AND gate\n",
    "# print(\"OR gate\")\n",
    "# y = np.array( [0, 1, 1, 1] )  #OR gate\n",
    "print(\"XOR gate\")\n",
    "y = np.array( [0, 1, 1, 0] )  #XOR gate\n",
    "w = np.array( [0, 0, 0] )\n",
    "check = True\n",
    "count=0\n",
    "print(\"weight at each steps:\")\n",
    "\n",
    "while(True):\n",
    "    last_w == w\n",
    "    if(not check or count == 3):\n",
    "        break\n",
    "    check = False\n",
    "    for i in range(4):\n",
    "        x = np.array([1])\n",
    "        x = np.append(x, X[i], axis = 0)\n",
    "        wx = np.dot(w,x)\n",
    "        #assign the class which the data set's belong \n",
    "        if(wx > 0):     #class positive\n",
    "            if(y[i] < 1):\n",
    "                check = True\n",
    "                w=np.subtract(w,x)\n",
    "        else:  #class negative\n",
    "            if(y[i] >0 ):\n",
    "                check = True\n",
    "                w=np.add(w,x)\n",
    "    \n",
    "    if np.all(last_w == w):\n",
    "        count+=1\n",
    "    else:\n",
    "        count = 0\n",
    "    print(w)\n",
    "    \n",
    "\n",
    "w_norm = (np.power(w,2))\n",
    "w_norm = math.sqrt(w_norm[0]+w_norm[1]+w_norm[2])\n",
    "x_norm = np.array([1, math.sqrt(2), math.sqrt(2), math.sqrt(3)])\n",
    "if(count >= 3):\n",
    "    print(\"can't be use preceptron training algorithm\")\n",
    "else:\n",
    "    for i in range(4):\n",
    "        x = np.array([1])\n",
    "        x = np.append(x, X[i], axis = 0)\n",
    "        angle = np.arccos( np.dot(w,x) / (w_norm*x_norm[i]) ) *180/math.pi\n",
    "        print(\"the angle between the weight and input vector\" + str(x) + \" is \" + str(angle) + \"  degree\",end = '\\n')\n"
   ]
  },
  {
   "cell_type": "code",
   "execution_count": null,
   "metadata": {},
   "outputs": [],
   "source": []
  },
  {
   "cell_type": "code",
   "execution_count": null,
   "metadata": {},
   "outputs": [],
   "source": []
  }
 ],
 "metadata": {
  "kernelspec": {
   "display_name": "Python 3",
   "language": "python",
   "name": "python3"
  },
  "language_info": {
   "codemirror_mode": {
    "name": "ipython",
    "version": 3
   },
   "file_extension": ".py",
   "mimetype": "text/x-python",
   "name": "python",
   "nbconvert_exporter": "python",
   "pygments_lexer": "ipython3",
   "version": "3.7.0"
  }
 },
 "nbformat": 4,
 "nbformat_minor": 2
}
